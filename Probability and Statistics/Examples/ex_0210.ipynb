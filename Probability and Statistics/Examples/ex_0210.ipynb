{
 "cells": [
  {
   "cell_type": "markdown",
   "metadata": {},
   "source": [
    "## Coding Exercise #0210"
   ]
  },
  {
   "cell_type": "markdown",
   "metadata": {},
   "source": [
    "### 1. Chi-squared Tests:"
   ]
  },
  {
   "cell_type": "code",
   "execution_count": null,
   "metadata": {},
   "outputs": [],
   "source": [
    "import pandas as pd\n",
    "import numpy as np\n",
    "import scipy.stats as st"
   ]
  },
  {
   "cell_type": "markdown",
   "metadata": {},
   "source": [
    "#### 1.1. For one way table:"
   ]
  },
  {
   "cell_type": "markdown",
   "metadata": {},
   "source": [
    "Suppose we have a frequency table of *eye color* of 592 adults. <br>\n",
    "Let us carry out the Chi-squared tests."
   ]
  },
  {
   "cell_type": "code",
   "execution_count": null,
   "metadata": {},
   "outputs": [],
   "source": [
    "# Data.\n",
    "data = np.array([220, 215, 93,64])\n",
    "eye = pd.Series(data,index=['Brown','Blue','Hazel','Green'])\n",
    "eye"
   ]
  },
  {
   "cell_type": "code",
   "execution_count": null,
   "metadata": {},
   "outputs": [],
   "source": [
    "# Table of proportions.\n",
    "eye/eye.sum()"
   ]
  },
  {
   "cell_type": "code",
   "execution_count": null,
   "metadata": {},
   "outputs": [],
   "source": [
    "# Compare with the default model of equal frequencies.\n",
    "# We conclide that the data and the provided model do not coincide.\n",
    "st.chisquare(eye)"
   ]
  },
  {
   "cell_type": "code",
   "execution_count": null,
   "metadata": {},
   "outputs": [],
   "source": [
    "# Compare with the model provide by the user.\n",
    "# Again, this model corresponds to the equal frequencies.\n",
    "# We conclide that the data and the provided model do not coincide.\n",
    "my_model = len(eye)*[np.mean(eye)]\n",
    "st.chisquare(f_obs=eye,f_exp = my_model)"
   ]
  },
  {
   "cell_type": "code",
   "execution_count": null,
   "metadata": {},
   "outputs": [],
   "source": [
    "# Compare with the model provide by the user.\n",
    "# A more realistic model is provided.\n",
    "# We conclide that the data and the provided model coincide.\n",
    "my_model = eye.sum()*np.array([0.40,0.33,0.15,0.12])\n",
    "st.chisquare(f_obs=eye,f_exp = my_model )"
   ]
  },
  {
   "cell_type": "markdown",
   "metadata": {},
   "source": [
    "#### 1.2. For two way table:"
   ]
  },
  {
   "cell_type": "markdown",
   "metadata": {},
   "source": [
    "Suppose we have a contingency table of *eye color* vs *hair color* of 592 adults. <br>\n",
    "Let us carry out the Chi-squared test for independence."
   ]
  },
  {
   "cell_type": "code",
   "execution_count": null,
   "metadata": {},
   "outputs": [],
   "source": [
    "# Data.\n",
    "# Row label    = hair color.\n",
    "# Column label = eye color. \n",
    "data_eye = {'Brown': [68,119,26,7], 'Blue':[20,84,17,94], 'Hazel':[15,54,14,10], 'Green':[5, 29, 14,16]}\n",
    "data = pd.DataFrame(data_eye,index=['Black','Brown','Red','Blonde'])\n",
    "data"
   ]
  },
  {
   "cell_type": "code",
   "execution_count": null,
   "metadata": {},
   "outputs": [],
   "source": [
    "# Test statistic, p-value, degree of freedom, expected frequency table.\n",
    "# We conclude that the eye color and hair color are not independent.\n",
    "st.chi2_contingency(data)"
   ]
  },
  {
   "cell_type": "markdown",
   "metadata": {},
   "source": [
    "Suppose we have a contingency table of the *room class* vs *survived* from RMS Titanic. <br>\n",
    "Let us carry out the Chi-squared test for independence."
   ]
  },
  {
   "cell_type": "code",
   "execution_count": null,
   "metadata": {},
   "outputs": [],
   "source": [
    "# Data.\n",
    "# Row label    = room class.\n",
    "# Column label = survived. \n",
    "data_survived = {'Yes':[122, 167, 528, 673], 'No':[203,118,178,212]}\n",
    "data = pd.DataFrame(data_survived,index=['1st','2nd','3rd','Crew'])\n",
    "data"
   ]
  },
  {
   "cell_type": "code",
   "execution_count": null,
   "metadata": {},
   "outputs": [],
   "source": [
    "# Test statistic, p-value, degree of freedom, expected frequency table.\n",
    "# We conclude that the room class and survived are not independent.\n",
    "st.chi2_contingency(data)"
   ]
  },
  {
   "cell_type": "code",
   "execution_count": null,
   "metadata": {},
   "outputs": [],
   "source": []
  }
 ],
 "metadata": {
  "kernelspec": {
   "display_name": "Python 3",
   "language": "python",
   "name": "python3"
  },
  "language_info": {
   "codemirror_mode": {
    "name": "ipython",
    "version": 3
   },
   "file_extension": ".py",
   "mimetype": "text/x-python",
   "name": "python",
   "nbconvert_exporter": "python",
   "pygments_lexer": "ipython3",
   "version": "3.8.8"
  }
 },
 "nbformat": 4,
 "nbformat_minor": 2
}
