{
 "cells": [
  {
   "cell_type": "markdown",
   "metadata": {},
   "source": [
    "## Coding Exercise #0202"
   ]
  },
  {
   "cell_type": "markdown",
   "metadata": {},
   "source": [
    "### 1. Continuous probability density:"
   ]
  },
  {
   "cell_type": "code",
   "execution_count": null,
   "metadata": {},
   "outputs": [],
   "source": [
    "import scipy.stats as st\n",
    "import matplotlib.pyplot as plt\n",
    "import numpy as np\n",
    "%matplotlib inline"
   ]
  },
  {
   "cell_type": "markdown",
   "metadata": {},
   "source": [
    "#### 1.1. Uniform:"
   ]
  },
  {
   "cell_type": "code",
   "execution_count": null,
   "metadata": {},
   "outputs": [],
   "source": [
    "# The a and b parameters.\n",
    "a = 2000\n",
    "b = 5000\n",
    "base = b - a"
   ]
  },
  {
   "cell_type": "code",
   "execution_count": null,
   "metadata": {},
   "outputs": [],
   "source": [
    "# Probability density at x = 4500.\n",
    "st.uniform.pdf(4500,a,base)"
   ]
  },
  {
   "cell_type": "code",
   "execution_count": null,
   "metadata": {},
   "outputs": [],
   "source": [
    "# Quantile at alpha = 0.5\n",
    "st.uniform.ppf(0.5,a,base)"
   ]
  },
  {
   "cell_type": "code",
   "execution_count": null,
   "metadata": {},
   "outputs": [],
   "source": [
    "# Quantile at alpha = 0.01\n",
    "st.uniform.ppf(0.01,a,base)"
   ]
  },
  {
   "cell_type": "code",
   "execution_count": null,
   "metadata": {},
   "outputs": [],
   "source": [
    "# Quantile at alpha = 0.99\n",
    "st.uniform.ppf(0.99,a,base)"
   ]
  },
  {
   "cell_type": "code",
   "execution_count": null,
   "metadata": {},
   "outputs": [],
   "source": [
    "# P(a <= x <= 2500)\n",
    "st.uniform.cdf(3500,a,base)"
   ]
  },
  {
   "cell_type": "code",
   "execution_count": null,
   "metadata": {},
   "outputs": [],
   "source": [
    "# P(2500 <= x <=3000)\n",
    "st.uniform.cdf(3000,a,base)-st.uniform.cdf(2500,a,base)"
   ]
  },
  {
   "cell_type": "code",
   "execution_count": null,
   "metadata": {},
   "outputs": [],
   "source": [
    "# Visualizing the probability density.\n",
    "x=np.linspace(1000,6000,1000)\n",
    "plt.plot(x, st.uniform.pdf(x,a,base),color='red')\n",
    "plt.show()"
   ]
  },
  {
   "cell_type": "markdown",
   "metadata": {},
   "source": [
    "#### 1.2. Normal:"
   ]
  },
  {
   "cell_type": "code",
   "execution_count": null,
   "metadata": {},
   "outputs": [],
   "source": [
    "# The mu and sigma parameters.\n",
    "mu = 5\n",
    "sigma = 2"
   ]
  },
  {
   "cell_type": "code",
   "execution_count": null,
   "metadata": {},
   "outputs": [],
   "source": [
    "# Probability density at x = 0.\n",
    "st.norm.pdf(0, loc=mu, scale=sigma)"
   ]
  },
  {
   "cell_type": "code",
   "execution_count": null,
   "metadata": {},
   "outputs": [],
   "source": [
    "# Quantile at alpha = 0.5\n",
    "st.norm.ppf(0.5, loc=mu, scale=sigma)"
   ]
  },
  {
   "cell_type": "code",
   "execution_count": null,
   "metadata": {},
   "outputs": [],
   "source": [
    "# Quantile at alpha = 0.01\n",
    "st.norm.ppf(0.01, loc=mu, scale=sigma)"
   ]
  },
  {
   "cell_type": "code",
   "execution_count": null,
   "metadata": {},
   "outputs": [],
   "source": [
    "# Quantile at alpha = 0.99\n",
    "st.norm.ppf(0.99, loc=mu, scale=sigma)"
   ]
  },
  {
   "cell_type": "code",
   "execution_count": null,
   "metadata": {},
   "outputs": [],
   "source": [
    "# P( x <= 5)\n",
    "st.norm.cdf(5,loc = mu, scale=sigma)"
   ]
  },
  {
   "cell_type": "code",
   "execution_count": null,
   "metadata": {},
   "outputs": [],
   "source": [
    "# P( 3 <= x <= 7)\n",
    "st.norm.cdf(7,loc = mu, scale=sigma) - st.norm.cdf(3,loc = mu, scale=sigma)"
   ]
  },
  {
   "cell_type": "code",
   "execution_count": null,
   "metadata": {},
   "outputs": [],
   "source": [
    "# P( 1 <= x <= 9)\n",
    "st.norm.cdf(9,loc = mu, scale=sigma) - st.norm.cdf(1,loc = mu, scale=sigma)"
   ]
  },
  {
   "cell_type": "code",
   "execution_count": null,
   "metadata": {},
   "outputs": [],
   "source": [
    "# P( -1 <= x <= 11)\n",
    "st.norm.cdf(11,loc = mu, scale=sigma) - st.norm.cdf(-1,loc = mu, scale=sigma)"
   ]
  },
  {
   "cell_type": "code",
   "execution_count": null,
   "metadata": {},
   "outputs": [],
   "source": [
    "# Visualizing the probability density.\n",
    "x=np.linspace(-10,+10,1000)\n",
    "mu=0\n",
    "sigma=2\n",
    "plt.plot(x, st.norm.pdf(x,loc=mu,scale=sigma),color='red')\n",
    "plt.show()"
   ]
  },
  {
   "cell_type": "code",
   "execution_count": null,
   "metadata": {},
   "outputs": [],
   "source": [
    "# The location parameter mu.\n",
    "x=np.linspace(-10,+10,1000)\n",
    "sigma=2\n",
    "mu_1 = -1\n",
    "mu_2 = 0\n",
    "mu_3 = +1\n",
    "plt.plot(x, st.norm.pdf(x,loc=mu_1,scale=sigma),color='red')\n",
    "plt.plot(x, st.norm.pdf(x,loc=mu_2,scale=sigma),color='green')\n",
    "plt.plot(x, st.norm.pdf(x,loc=mu_3,scale=sigma),color='blue')\n",
    "plt.show()"
   ]
  },
  {
   "cell_type": "code",
   "execution_count": null,
   "metadata": {},
   "outputs": [],
   "source": [
    "# The shape parameter sigma.\n",
    "x=np.linspace(-10,+10,1000)\n",
    "sigma_1 = 1\n",
    "sigma_2 = 2\n",
    "sigma_3 = 3\n",
    "mu = 0\n",
    "plt.plot(x, st.norm.pdf(x,loc=mu,scale=sigma_1),color='red')\n",
    "plt.plot(x, st.norm.pdf(x,loc=mu,scale=sigma_2),color='green')\n",
    "plt.plot(x, st.norm.pdf(x,loc=mu,scale=sigma_3),color='blue')\n",
    "plt.show()"
   ]
  },
  {
   "cell_type": "markdown",
   "metadata": {},
   "source": [
    "#### 1.3. Chi-square:"
   ]
  },
  {
   "cell_type": "code",
   "execution_count": null,
   "metadata": {},
   "outputs": [],
   "source": [
    "# The degree of freedom.\n",
    "df = 5"
   ]
  },
  {
   "cell_type": "code",
   "execution_count": null,
   "metadata": {},
   "outputs": [],
   "source": [
    "# Probability density at x = 1.\n",
    "st.chi2.pdf(1,df)"
   ]
  },
  {
   "cell_type": "code",
   "execution_count": null,
   "metadata": {},
   "outputs": [],
   "source": [
    "# Quantile at alpha = 0.5\n",
    "st.chi2.ppf(0.5,df)"
   ]
  },
  {
   "cell_type": "code",
   "execution_count": null,
   "metadata": {},
   "outputs": [],
   "source": [
    "# Quantile at alpha = 0.01\n",
    "st.chi2.ppf(0.01,df)"
   ]
  },
  {
   "cell_type": "code",
   "execution_count": null,
   "metadata": {},
   "outputs": [],
   "source": [
    "# Quantile at alpha = 0.99\n",
    "st.chi2.ppf(0.99,df)"
   ]
  },
  {
   "cell_type": "code",
   "execution_count": null,
   "metadata": {},
   "outputs": [],
   "source": [
    "# P( x <= 5) with df=10\n",
    "st.chi2.cdf(5, df=10)"
   ]
  },
  {
   "cell_type": "code",
   "execution_count": null,
   "metadata": {},
   "outputs": [],
   "source": [
    "# P( 5 <= x <= 10) with df=5\n",
    "st.chi2.cdf(10, df=5) - st.chi2.cdf(5, df=5)"
   ]
  },
  {
   "cell_type": "code",
   "execution_count": null,
   "metadata": {},
   "outputs": [],
   "source": [
    "# Visualizing the probability density with different degrees of freedom (df).\n",
    "x=np.linspace(0,+15,1000)\n",
    "plt.plot(x, st.chi2.pdf(x,df=1),color='red')         # df = 1\n",
    "plt.plot(x, st.chi2.pdf(x,df=5),color='green')       # df = 5\n",
    "plt.plot(x, st.chi2.pdf(x,df=10),color='blue')       # df = 10\n",
    "plt.ylim([0,1])\n",
    "plt.show()"
   ]
  }
 ],
 "metadata": {
  "kernelspec": {
   "display_name": "Python 3",
   "language": "python",
   "name": "python3"
  },
  "language_info": {
   "codemirror_mode": {
    "name": "ipython",
    "version": 3
   },
   "file_extension": ".py",
   "mimetype": "text/x-python",
   "name": "python",
   "nbconvert_exporter": "python",
   "pygments_lexer": "ipython3",
   "version": "3.8.8"
  }
 },
 "nbformat": 4,
 "nbformat_minor": 2
}
