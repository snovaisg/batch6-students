{
 "cells": [
  {
   "cell_type": "markdown",
   "metadata": {},
   "source": [
    "## Coding Exercise #0311"
   ]
  },
  {
   "cell_type": "markdown",
   "metadata": {},
   "source": [
    "### 1. Classification with SVM:"
   ]
  },
  {
   "cell_type": "code",
   "execution_count": null,
   "metadata": {},
   "outputs": [],
   "source": [
    "import numpy as np\n",
    "import pandas as pd\n",
    "import matplotlib.pyplot as plt\n",
    "import seaborn as sns\n",
    "import warnings\n",
    "from sklearn.model_selection import train_test_split,GridSearchCV\n",
    "from sklearn.svm import SVC\n",
    "from sklearn import metrics\n",
    "from sklearn.datasets import load_iris\n",
    "warnings.filterwarnings(action='ignore')                  # Turn off the warnings.\n",
    "%matplotlib inline"
   ]
  },
  {
   "cell_type": "markdown",
   "metadata": {},
   "source": [
    "#### 1.1. Read in data:"
   ]
  },
  {
   "cell_type": "code",
   "execution_count": null,
   "metadata": {},
   "outputs": [],
   "source": [
    "# Load data.\n",
    "data = load_iris()"
   ]
  },
  {
   "cell_type": "code",
   "execution_count": null,
   "metadata": {},
   "outputs": [],
   "source": [
    "# Explanatory variables.\n",
    "X = data['data']\n",
    "columns = list(data['feature_names'])\n",
    "print(columns)"
   ]
  },
  {
   "cell_type": "code",
   "execution_count": null,
   "metadata": {},
   "outputs": [],
   "source": [
    "# Response variable.\n",
    "Y = data['target']\n",
    "labels = list(data['target_names'])\n",
    "print(labels)"
   ]
  },
  {
   "cell_type": "code",
   "execution_count": null,
   "metadata": {},
   "outputs": [],
   "source": [
    "X_train, X_test, Y_train, Y_test = train_test_split(X, Y, test_size=0.3, random_state=1234)"
   ]
  },
  {
   "cell_type": "markdown",
   "metadata": {},
   "source": [
    "#### 1.2. SVM hyperparameter optimization (RBF kernel):"
   ]
  },
  {
   "cell_type": "markdown",
   "metadata": {},
   "source": [
    "C     : Penalty parameter. <br>\n",
    "gamma : kernel parameter ($\\gamma$)."
   ]
  },
  {
   "cell_type": "code",
   "execution_count": null,
   "metadata": {},
   "outputs": [],
   "source": [
    "C_grid = 0.02*np.arange(1,20)\n",
    "gamma_grid = 0.02*np.arange(1,50)\n",
    "parameters = {'C': C_grid, 'gamma' : gamma_grid}\n",
    "gridCV = GridSearchCV(SVC(kernel='rbf'), parameters, cv=10, n_jobs=-1)              # \"n_jobs = -1\" means \"use all the CPU cores\".\n",
    "gridCV.fit(X_train, Y_train)\n",
    "best_C = gridCV.best_params_['C']\n",
    "best_gamma = gridCV.best_params_['gamma']"
   ]
  },
  {
   "cell_type": "code",
   "execution_count": null,
   "metadata": {},
   "outputs": [],
   "source": [
    "print(\"SVM best C : \" + str(best_C))\n",
    "print(\"SVM best gamma : \" + str(best_gamma))"
   ]
  },
  {
   "cell_type": "code",
   "execution_count": null,
   "metadata": {},
   "outputs": [],
   "source": [
    "SVM_best = SVC(kernel='rbf', C=best_C,gamma=best_gamma)\n",
    "SVM_best.fit(X_train, Y_train);\n",
    "Y_pred = SVM_best.predict(X_test)\n",
    "print( \"SVM best accuracy : \" + str(np.round(metrics.accuracy_score(Y_test,Y_pred),3)))"
   ]
  },
  {
   "cell_type": "markdown",
   "metadata": {},
   "source": [
    "#### 1.3. SVM hyperparameter optimization (Polynomial kernel):"
   ]
  },
  {
   "cell_type": "code",
   "execution_count": null,
   "metadata": {},
   "outputs": [],
   "source": [
    "C_grid = 0.0001*np.arange(1,30)\n",
    "gamma_grid = 0.01*np.arange(1,30)\n",
    "parameters = {'C': C_grid, 'gamma' : gamma_grid}\n",
    "gridCV = GridSearchCV(SVC(kernel='poly'), parameters, cv=10, n_jobs=-1)              # \"n_jobs = -1\" means \"use all the CPU cores\".\n",
    "gridCV.fit(X_train, Y_train)\n",
    "best_C = gridCV.best_params_['C']\n",
    "best_gamma = gridCV.best_params_['gamma']"
   ]
  },
  {
   "cell_type": "code",
   "execution_count": null,
   "metadata": {},
   "outputs": [],
   "source": [
    "print(\"SVM best C : \" + str(best_C))\n",
    "print(\"SVM best gamma : \" + str(best_gamma))"
   ]
  },
  {
   "cell_type": "code",
   "execution_count": null,
   "metadata": {},
   "outputs": [],
   "source": [
    "SVM_best = SVC(kernel='poly', C=best_C,gamma=best_gamma)\n",
    "SVM_best.fit(X_train, Y_train);\n",
    "Y_pred = SVM_best.predict(X_test)\n",
    "print( \"SVM best accuracy : \" + str(np.round(metrics.accuracy_score(Y_test,Y_pred),3)))"
   ]
  },
  {
   "cell_type": "code",
   "execution_count": null,
   "metadata": {},
   "outputs": [],
   "source": []
  }
 ],
 "metadata": {
  "kernelspec": {
   "display_name": "Python 3",
   "language": "python",
   "name": "python3"
  },
  "language_info": {
   "codemirror_mode": {
    "name": "ipython",
    "version": 3
   },
   "file_extension": ".py",
   "mimetype": "text/x-python",
   "name": "python",
   "nbconvert_exporter": "python",
   "pygments_lexer": "ipython3",
   "version": "3.8.8"
  }
 },
 "nbformat": 4,
 "nbformat_minor": 2
}
